{
 "cells": [
  {
   "cell_type": "markdown",
   "metadata": {},
   "source": [
    "# Intro to Linear Regression and Gradient Descent\n",
    "\n",
    "This is the code for [this video](https://www.youtube.com/watch?v=XdM6ER7zTLk&index=2&list=PL2-dafEMk2A7YdKv4XfKpfbTH5z6rEEj3) on Youtube by Siraj Raval. We're using a small dataset of student test scores and the amount of hours they studied. Intuitively, there must be a relationship right? The more you study, the better your test scores should be. We're going to use linear regression to prove this relationship.\n",
    "\n",
    "The target is to predict the students test score, when given the amount they studied 📖🤓📚."
   ]
  },
  {
   "cell_type": "markdown",
   "metadata": {},
   "source": [
    "## Overview\n",
    "\n",
    "Linear regression is a very simple machine learning (=ML) technique. In this project we want to find a line which best fits our data and the way we are going to optimize it, is **THE** most popular optimization methode for deep learning called \"Gradient Descent\". Gradient Descent is used everywhere in machine learning and deep learning (=DL) and that's the reason why we do this project.\n",
    "\n",
    "(Actually, linear regession is just ML and not DL, because there aren't any neural networks.)\n",
    "\n",
    "<img style=\"max-width: 66%;\" src=\"Linear_regression_files/gradient_descent_example.gif\">"
   ]
  },
  {
   "cell_type": "markdown",
   "metadata": {},
   "source": [
    "## Dataset Visualisation\n",
    "\n",
    "Our dataset is stored in a `.csv` file, where the first column contains the amount of hours the students studied and the second column contains their test scores:\n"
   ]
  },
  {
   "cell_type": "code",
   "execution_count": 8,
   "metadata": {
    "scrolled": true
   },
   "outputs": [
    {
     "data": {
      "image/png": "[encoded data removed]",
      "text/plain": [
       "<matplotlib.figure.Figure at 0x7f7b3b46a9b0>"
      ]
     },
     "metadata": {},
     "output_type": "display_data"
    }
   ],
   "source": [
    "# Load dependencies\n",
    "import numpy as np\n",
    "import matplotlib.pyplot as plt\n",
    "\n",
    "# Load dataset\n",
    "points = np.genfromtxt(\"data.csv\", delimiter=\",\") # a magic function to import .csv files\n",
    "\n",
    "# Display the data using matplotlib\n",
    "fig, ax = plt.subplots()  # creates a figure and an axes object\n",
    "ax.plot(points[:,0], points[:,1], 'ro')\n",
    "ax.axis([0, 100, 0, 150]) # set the limits of the axis\n",
    "ax.set(xlabel='Time Studied [h]', ylabel='Test Score [Points]',\n",
    "       title='Relationship between Test Scores and Time Studied')\n",
    "ax.grid() # show the grid\n",
    "plt.show()"
   ]
  },
  {
   "cell_type": "markdown",
   "metadata": {},
   "source": [
    "A word on `numpy`: 👩🏻‍🏫\n",
    "\n",
    "Numpy is the de facto best python library for matrix multiplication and is therefor used in nearly every machine learning project. "
   ]
  },
  {
   "cell_type": "markdown",
   "metadata": {},
   "source": [
    "## Linear Regression\n",
    "\n",
    "First we have to define our \"Hyperparameters\". They are some kind of tuning knobs for our ML algorithm: \n",
    "- `learning_rate`: defines \"how fast our model learns\". If the learning rate is to low, our model will be to slow to converge. If it's to high our model will never converge. Typical values range over a few orders of magnitude from 0.0001 up to 1.\n",
    "- `initial_b`: We are fitting our dataseet to the `y = mx + b` formula, where `initial_b` is our first guess for b.\n",
    "- `initial_m`: initial guess for m 😉\n",
    "- `num_iterations`: How often to we want to run our training step on the dataset. If it's to low, the model may not converge. If it's to high the training time will take longer than necessary. 😴\n",
    "\n",
    "Next, we simply pass all our variables to a function called `gradient_descent_runner`."
   ]
  },
  {
   "cell_type": "code",
   "execution_count": 9,
   "metadata": {},
   "outputs": [],
   "source": [
    "def train():\n",
    "    # Define the Hyperparameters\n",
    "    learning_rate = 0.0001\n",
    "    initial_b = 0 # initial y-intercept guess\n",
    "    initial_m = 0 # initial slope guess\n",
    "    num_iterations = 1000\n",
    "    \n",
    "    # Start the gradient descent algorithm\n",
    "    print(\"Starting gradient descent at b = {0}, m = {1}, error = {2}\".format(initial_b, initial_m, compute_error_for_line_given_points(initial_b, initial_m, points)))\n",
    "    print(\"Running...\")\n",
    "    [b, m] = gradient_descent_runner(points, initial_b, initial_m, learning_rate, num_iterations)\n",
    "    print(\"After {0} iterations b = {1}, m = {2}, error = {3}\".format(num_iterations, b, m, compute_error_for_line_given_points(b, m, points)))\n",
    "    \n",
    "    # return the final result to the global scope\n",
    "    return [b, m]"
   ]
  },
  {
   "cell_type": "markdown",
   "metadata": {},
   "source": [
    "In the `gradient_descent_runner` function we are simply performing the gradient step over and over again. 🔄"
   ]
  },
  {
   "cell_type": "code",
   "execution_count": 10,
   "metadata": {},
   "outputs": [],
   "source": [
    "def gradient_descent_runner(points, starting_b, starting_m, learning_rate, num_iterations):\n",
    "    b = starting_b\n",
    "    m = starting_m\n",
    "    for i in range(num_iterations):\n",
    "        b, m = step_gradient(b, m, np.array(points), learning_rate)\n",
    "        if i % 100 == 0:\n",
    "            # Print the error every 100th iteration\n",
    "            # The \"error\" indicates how good our model fits the data.\n",
    "            print(\"Iteration {0}: b = {1:.2f}, m = {2:.2f}, error = {3:.5f}\".format(i, b, m, compute_error_for_line_given_points(b, m, points)))\n",
    "    return [b, m]"
   ]
  },
  {
   "cell_type": "markdown",
   "metadata": {},
   "source": [
    "Who do we measure how good our line fits the data?\n",
    "For this we are using the sum of the squared errors as an indicator:\n",
    "\n",
    "<img style=\"max-width: 50%;\" src=\"Linear_regression_files/sum_of_squared_errors.png\">\n",
    "\n",
    "- $N$ ... number of datapoints in our dataset\n",
    "- $x_{i}$ ... amount student i has studied \n",
    "- $y_{i}$ ... test score of student i\n",
    "- $i$ ... index of the selected student\n",
    "- $m$ and $b$ ... optimization parameters \n",
    "\n",
    "This can be plotted for different `m` and `b` values.\n",
    "\n",
    "<img style=\"max-width: 50%;\" src=\"Linear_regression_files/gradient_descent_error_surface.png\">\n",
    "\n",
    "So basically we are trying to find the values for `b` and `m` where the error is the smallest. Calculating the error for **every** single m and b value is usually very computation intensive and therefor we are using this `Gradient Descent` algorithm.\n",
    "\n",
    "Remember, the gradient of a function gives us the direction of the steepest ascent. (check [this](https://www.khanacademy.org/math/multivariable-calculus/multivariable-derivatives/gradient-and-directional-derivatives/v/why-the-gradient-is-the-direction-of-steepest-ascent) out if you wanna dive into the math for this)\n",
    "\n",
    "<img style=\"max-width: 50%;\" src=\"Linear_regression_files/gradient_descent_illustration.png\">\n",
    "\n",
    "So in short: The gradient of our error function tells us how to update our optimization parameters. The gradient can be calculated as follows:\n",
    "\n",
    "$$\\operatorname{grad}(f)=\\begin{pmatrix}\\frac{\\partial f}{\\partial m}\\\\ \\frac{\\partial f}{\\partial b} \\end{pmatrix}$$\n",
    "\n",
    "\n",
    "<img style=\"max-width: 50%;\" src=\"Linear_regression_files/partial_error_derivatives.png\">\n",
    "\n"
   ]
  },
  {
   "cell_type": "code",
   "execution_count": 11,
   "metadata": {},
   "outputs": [],
   "source": [
    "def step_gradient(b_current, m_current, points, learningRate):\n",
    "    b_gradient = 0\n",
    "    m_gradient = 0\n",
    "    N = float(len(points))\n",
    "    for i in range(0, len(points)):\n",
    "        x = points[i, 0]\n",
    "        y = points[i, 1]\n",
    "        m_gradient += -(2/N) * x * (y - ((m_current * x) + b_current)) #see formula above\n",
    "        b_gradient += -(2/N) * (y - ((m_current * x) + b_current)) \n",
    "    new_b = b_current - (learningRate * b_gradient) \n",
    "    new_m = m_current - (learningRate * m_gradient)\n",
    "    # Note: Minus the gradient we wanna go down. (neg. gradient => steepest descent)\n",
    "    return [new_b, new_m]"
   ]
  },
  {
   "cell_type": "markdown",
   "metadata": {},
   "source": [
    "Let's add another function, which will calculate the sum of squared errors. Now we can easily print our error and see how the error is becoming smaller and smaller during training."
   ]
  },
  {
   "cell_type": "code",
   "execution_count": 12,
   "metadata": {},
   "outputs": [],
   "source": [
    "# y = mx + b\n",
    "# m is slope, b is y-intercept\n",
    "def compute_error_for_line_given_points(b, m, points):\n",
    "    totalError = 0\n",
    "    for i in range(0, len(points)):\n",
    "        x = points[i, 0]\n",
    "        y = points[i, 1]\n",
    "        totalError += (y - (m * x + b)) ** 2\n",
    "    return totalError / float(len(points))"
   ]
  },
  {
   "cell_type": "markdown",
   "metadata": {},
   "source": [
    "Let's train our model 🤖🗜"
   ]
  },
  {
   "cell_type": "code",
   "execution_count": 13,
   "metadata": {
    "scrolled": true
   },
   "outputs": [
    {
     "name": "stdout",
     "output_type": "stream",
     "text": [
      "Starting gradient descent at b = 0, m = 0, error = 5565.107834483211\n",
      "Running...\n",
      "Iteration 0: b = 0.01, m = 0.74, error = 1484.58656\n",
      "Iteration 100: b = 0.04, m = 1.48, error = 112.64702\n",
      "Iteration 200: b = 0.04, m = 1.48, error = 112.64342\n",
      "Iteration 300: b = 0.05, m = 1.48, error = 112.63982\n",
      "Iteration 400: b = 0.05, m = 1.48, error = 112.63622\n",
      "Iteration 500: b = 0.06, m = 1.48, error = 112.63263\n",
      "Iteration 600: b = 0.07, m = 1.48, error = 112.62905\n",
      "Iteration 700: b = 0.07, m = 1.48, error = 112.62547\n",
      "Iteration 800: b = 0.08, m = 1.48, error = 112.62190\n",
      "Iteration 900: b = 0.08, m = 1.48, error = 112.61834\n",
      "After 1000 iterations b = 0.08893651993741346, m = 1.4777440851894448, error = 112.61481011613473\n"
     ]
    }
   ],
   "source": [
    "[b, m] = train()"
   ]
  },
  {
   "cell_type": "markdown",
   "metadata": {},
   "source": [
    "## Testing"
   ]
  },
  {
   "cell_type": "markdown",
   "metadata": {},
   "source": [
    "Let's test our model and predict some test scores."
   ]
  },
  {
   "cell_type": "code",
   "execution_count": 14,
   "metadata": {},
   "outputs": [
    {
     "data": {
      "image/png": "[encoded data removed]",
      "text/plain": [
       "<matplotlib.figure.Figure at 0x7f7b3b5c1160>"
      ]
     },
     "metadata": {},
     "output_type": "display_data"
    }
   ],
   "source": [
    "# sample studied hours\n",
    "h = np.arange(0, 100, 5)\n",
    "\n",
    "# visualize our model\n",
    "fig, ax = plt.subplots()  # creates a figure and an axes object\n",
    "ax.plot(points[:,0], points[:,1], 'ro')\n",
    "ax.plot(h, m*h + b, 'b')\n",
    "ax.axis([0, 100, 0, 150])\n",
    "ax.set(xlabel='Time Studied [h]', ylabel='Test Score [Points]',\n",
    "       title='Relationship between Test Scores and Time Studied')\n",
    "ax.grid()\n",
    "plt.show()"
   ]
  }
 ],
 "metadata": {
  "kernelspec": {
   "display_name": "Python 3",
   "language": "python",
   "name": "python3"
  },
  "language_info": {
   "codemirror_mode": {
    "name": "ipython",
    "version": 3
   },
   "file_extension": ".py",
   "mimetype": "text/x-python",
   "name": "python",
   "nbconvert_exporter": "python",
   "pygments_lexer": "ipython3",
   "version": "3.6.2"
  }
 },
 "nbformat": 4,
 "nbformat_minor": 2
}
