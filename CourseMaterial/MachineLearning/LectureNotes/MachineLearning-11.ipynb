{
 "cells": [
  {
   "cell_type": "markdown",
   "metadata": {},
   "source": [
    "#  Coursera: [Machine Learning](https://www.coursera.org/learn/machine-learning) - Week 11\n",
    "\n",
    "Created by Andrew Ng / Stanford University"
   ]
  },
  {
   "cell_type": "markdown",
   "metadata": {},
   "source": [
    "## Table of Content\n",
    "\n",
    "* [Application Example: Photo OCR](#Application-Example:-Photo-OCR)\n",
    "   * Photo OCR\n",
    "      * Problem Description and Pipeline\n",
    "      * Sliding Windows\n",
    "      * Getting Lots of Data and Artificial Data\n",
    "      * Ceiling Analysis: What Part of the Pipeline to Work on Next\n",
    "   * Review\n",
    "* [Conclusion](#Conclusion)\n",
    "   * Summary and Thank You"
   ]
  },
  {
   "cell_type": "markdown",
   "metadata": {},
   "source": [
    "## Application Example: Photo OCR\n",
    "\n",
    "Congratulations on making it to the eleventh and final week! This week, we will walk you through a complex, end-to-end application of machine learning, to the application of Photo OCR. Identifying and recognizing objects, words, and digits in an image is a challenging task. We discuss how a pipeline can be built to tackle this problem and how to analyze and improve the performance of such a system."
   ]
  },
  {
   "cell_type": "markdown",
   "metadata": {},
   "source": [
    "### Photo OCR\n",
    "\n",
    "#### Problem Description and Pipeline\n",
    "\n",
    "-\n",
    "\n",
    "#### Sliding Windows\n",
    "\n",
    "-\n",
    "\n",
    "#### Getting Lots of Data and Artificial Data\n",
    "\n",
    "-\n",
    "\n",
    "#### Ceiling Analysis: What Part of the Pipeline to Work on Next\n",
    "\n",
    "-"
   ]
  },
  {
   "cell_type": "markdown",
   "metadata": {},
   "source": [
    "### Review\n",
    "\n",
    "[Lecture18.pdf](lectures/Lecture18.pdf)"
   ]
  },
  {
   "cell_type": "markdown",
   "metadata": {},
   "source": [
    "## Conclusion"
   ]
  },
  {
   "cell_type": "markdown",
   "metadata": {},
   "source": [
    "### Summary and Thank You\n",
    "\n",
    "-"
   ]
  }
 ],
 "metadata": {
  "kernelspec": {
   "display_name": "Python 3",
   "language": "python",
   "name": "python3"
  },
  "language_info": {
   "codemirror_mode": {
    "name": "ipython",
    "version": 3
   },
   "file_extension": ".py",
   "mimetype": "text/x-python",
   "name": "python",
   "nbconvert_exporter": "python",
   "pygments_lexer": "ipython3",
   "version": "3.6.4"
  }
 },
 "nbformat": 4,
 "nbformat_minor": 2
}
