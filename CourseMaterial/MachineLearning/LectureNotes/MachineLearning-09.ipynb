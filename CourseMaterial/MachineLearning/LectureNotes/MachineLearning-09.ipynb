{
 "cells": [
  {
   "cell_type": "markdown",
   "metadata": {},
   "source": [
    "#  Coursera: [Machine Learning](https://www.coursera.org/learn/machine-learning) - Week 9\n",
    "\n",
    "Created by Andrew Ng / Stanford University"
   ]
  },
  {
   "cell_type": "markdown",
   "metadata": {},
   "source": [
    "## Table of Content\n",
    "\n",
    "* [Anomaly Detection](#Anomaly-Detection)\n",
    "   * Density Estimation\n",
    "      * Problem Motivation\n",
    "      * Gaussian Distribution\n",
    "      * Algorithm\n",
    "   * Building an Anomaly Detection System\n",
    "      * Developing and Evaluating an Anomaly Detection System\n",
    "      * Anomaly Detection vs. Supervised Learning\n",
    "      * Choosing What Features to Use\n",
    "   * Multivariate Gaussian Distribution (Optional)\n",
    "      * Multivariate Gaussian Distribution\n",
    "      * Anomaly Detection using the Multivariate Gaussian Distribution\n",
    "   * Review\n",
    "* [Recommender Systems](Recommender-Systems)\n",
    "   * Predicting Movie Ratings\n",
    "      * Problem Formulation\n",
    "      * Content Based Recommendations\n",
    "   * Collaborative Filtering\n",
    "      * Collaborative Filtering\n",
    "      * Collaborative Filtering Algorithm\n",
    "   * Low Rank Matrix Factorization\n",
    "      * Vectorization: Low Rank Matrix Factorization\n",
    "      * Implementational Detail: Mean Normalization\n",
    "   * Review"
   ]
  },
  {
   "cell_type": "markdown",
   "metadata": {},
   "source": [
    "## Anomaly Detection\n",
    "\n",
    "Hello all! I hope everyone has been enjoying the course and learning a lot! This week, we will be covering anomaly detection which is widely used in fraud detection (e.g. ‘has this credit card been stolen?’). Given a large number of data points, we may sometimes want to figure out which ones vary significantly from the average. For example, in manufacturing, we may want to detect defects or anomalies. We show how a dataset can be modeled using a Gaussian distribution, and how the model can be used for anomaly detection.\n",
    "\n",
    "We will also be covering recommender systems, which are used by companies like Amazon, Netflix and Apple to recommend products to their users. Recommender systems look at patterns of activities between different users and different products to produce these recommendations. In these lessons, we introduce recommender algorithms such as the collaborative filtering algorithm and low-rank matrix factorization."
   ]
  },
  {
   "cell_type": "markdown",
   "metadata": {},
   "source": [
    "### Density Estimation\n",
    "\n",
    "#### Problem Motivation\n",
    "\n",
    "-\n",
    "\n",
    "#### Gaussian Distribution\n",
    "\n",
    "-\n",
    "\n",
    "#### Algorithm\n",
    "\n",
    "-"
   ]
  },
  {
   "cell_type": "markdown",
   "metadata": {},
   "source": [
    "### Building an Anomaly Detection System\n",
    "\n",
    "#### Developing and Evaluating an Anomaly Detection System\n",
    "\n",
    "-\n",
    "\n",
    "#### Anomaly Detection vs. Supervised Learning\n",
    "\n",
    "-\n",
    "\n",
    "#### Choosing What Features to Use\n",
    "\n",
    "-"
   ]
  },
  {
   "cell_type": "markdown",
   "metadata": {},
   "source": [
    "### Multivariate Gaussian Distribution (Optional)\n",
    "\n",
    "#### Multivariate Gaussian Distribution\n",
    "\n",
    "-\n",
    "\n",
    "#### Anomaly Detection using the Multivariate Gaussian Distribution\n",
    "\n",
    "-"
   ]
  },
  {
   "cell_type": "markdown",
   "metadata": {},
   "source": [
    "### Review\n",
    "\n",
    "[Lecture15.pdf](lectures/Lecture15.pdf)"
   ]
  },
  {
   "cell_type": "markdown",
   "metadata": {},
   "source": [
    "## Recommender Systems\n",
    "\n",
    "When you buy a product online, most websites automatically recommend other products that you may like. Recommender systems look at patterns of activities between different users and different products to produce these recommendations. In this module, we introduce recommender algorithms such as the collaborative filtering algorithm and low-rank matrix factorization."
   ]
  },
  {
   "cell_type": "markdown",
   "metadata": {},
   "source": [
    "### Predicting Movie Ratings\n",
    "\n",
    "#### Problem Formulation\n",
    "\n",
    "-\n",
    "\n",
    "#### Content Based Recommendations\n",
    "\n",
    "-"
   ]
  },
  {
   "cell_type": "markdown",
   "metadata": {},
   "source": [
    "### Collaborative Filtering\n",
    "\n",
    "#### Collaborative Filtering\n",
    "\n",
    "-\n",
    "\n",
    "#### Collaborative Filtering Algorithm\n",
    "\n",
    "-"
   ]
  },
  {
   "cell_type": "markdown",
   "metadata": {},
   "source": [
    "### Low Rank Matrix Factorization\n",
    "\n",
    "#### Vectorization: Low Rank Matrix Factorization\n",
    "\n",
    "-\n",
    "\n",
    "#### Implementational Detail: Mean Normalization\n",
    "\n",
    "-"
   ]
  },
  {
   "cell_type": "markdown",
   "metadata": {},
   "source": [
    "### Review\n",
    "\n",
    "[Lecture16.pdf](lectures/Lecture16.pdf)"
   ]
  }
 ],
 "metadata": {
  "kernelspec": {
   "display_name": "Python 3",
   "language": "python",
   "name": "python3"
  },
  "language_info": {
   "codemirror_mode": {
    "name": "ipython",
    "version": 3
   },
   "file_extension": ".py",
   "mimetype": "text/x-python",
   "name": "python",
   "nbconvert_exporter": "python",
   "pygments_lexer": "ipython3",
   "version": "3.6.4"
  }
 },
 "nbformat": 4,
 "nbformat_minor": 2
}
