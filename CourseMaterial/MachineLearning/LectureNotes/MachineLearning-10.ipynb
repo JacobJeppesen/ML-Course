{
 "cells": [
  {
   "cell_type": "markdown",
   "metadata": {},
   "source": [
    "#  Coursera: [Machine Learning](https://www.coursera.org/learn/machine-learning) - Week 10\n",
    "\n",
    "Created by Andrew Ng / Stanford University"
   ]
  },
  {
   "cell_type": "markdown",
   "metadata": {},
   "source": [
    "## Table of Content\n",
    "\n",
    "* [Large Scale Machine Learning](#Large-Scale-Machine-Learning)\n",
    "   * Gradient Descent with Large Datasets\n",
    "      * Learning With Large Datasets\n",
    "      * Stochastic Gradient Descent\n",
    "      * Mini-Batch Gradient Descent\n",
    "      * Stochastic Gradient Descent Convergence\n",
    "   * Advanced Topics\n",
    "      * Online Learning\n",
    "      * Map Reduce and Data Parallelism\n",
    "   * Review"
   ]
  },
  {
   "cell_type": "markdown",
   "metadata": {},
   "source": [
    "## Large Scale Machine Learning\n",
    "\n",
    "Welcome to week 10! This week, we will be covering large scale machine learning. Machine learning works best when there is an abundance of data to leverage for training. With the amount data that many websites/companies are gathering today, knowing how to handle ‘big data’ is one of the most sought after skills in Silicon Valley."
   ]
  },
  {
   "cell_type": "markdown",
   "metadata": {},
   "source": [
    "### Gradient Descent with Large Datasets\n",
    "\n",
    "#### Learning With Large Datasets\n",
    "\n",
    "-\n",
    "\n",
    "#### Stochastic Gradient Descent\n",
    "\n",
    "-\n",
    "\n",
    "#### Mini-Batch Gradient Descent\n",
    "\n",
    "-\n",
    "\n",
    "#### Stochastic Gradient Descent Convergence\n",
    "\n",
    "-"
   ]
  },
  {
   "cell_type": "markdown",
   "metadata": {},
   "source": [
    "### Advanced Topics\n",
    "\n",
    "#### Online Learning\n",
    "\n",
    "-\n",
    "\n",
    "#### Map Reduce and Data Parallelism\n",
    "\n",
    "-"
   ]
  },
  {
   "cell_type": "markdown",
   "metadata": {},
   "source": [
    "### Review\n",
    "\n",
    "[Lecture17.pdf](lectures/Lecture17.pdf)"
   ]
  }
 ],
 "metadata": {
  "kernelspec": {
   "display_name": "Python 3",
   "language": "python",
   "name": "python3"
  },
  "language_info": {
   "codemirror_mode": {
    "name": "ipython",
    "version": 3
   },
   "file_extension": ".py",
   "mimetype": "text/x-python",
   "name": "python",
   "nbconvert_exporter": "python",
   "pygments_lexer": "ipython3",
   "version": "3.6.4"
  }
 },
 "nbformat": 4,
 "nbformat_minor": 2
}
