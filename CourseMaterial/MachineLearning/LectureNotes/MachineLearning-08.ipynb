{
 "cells": [
  {
   "cell_type": "markdown",
   "metadata": {},
   "source": [
    "#  Coursera: [Machine Learning](https://www.coursera.org/learn/machine-learning) - Week 8\n",
    "\n",
    "Created by Andrew Ng / Stanford University"
   ]
  },
  {
   "cell_type": "markdown",
   "metadata": {},
   "source": [
    "## Table of Content\n",
    "\n",
    "* [Unsupervised Learning](#Unsupervised-Learning)\n",
    "   * Clustering\n",
    "      * Unsupervised Learning: Introduction\n",
    "      * K-Means Algorithm\n",
    "      * Optimization Objective\n",
    "      * Random Initialization\n",
    "      * Choosing the Number of Clusters\n",
    "   * Review\n",
    "* [Dimensionality Reduction](#Dimensionality-Reduction)\n",
    "   * Motivation\n",
    "      * Motivation I: Data Compression\n",
    "      * Motivation II: Visualization\n",
    "   * Principal Component Analysis\n",
    "      * Principal Component Analysis Problem Formulation\n",
    "      * Principal Component Analysis Algorithm\n",
    "   * Applying PCA\n",
    "      * Reconstruction from Compressed Representation\n",
    "      * Choosing the Number of Principal Components\n",
    "      * Advice for Applying PCA\n",
    "   * Review"
   ]
  },
  {
   "cell_type": "markdown",
   "metadata": {},
   "source": [
    "## Unsupervised Learning\n",
    "\n",
    "Hello all! I hope everyone has been enjoying the course and learning a lot! This week, you will be learning about unsupervised learning. While supervised learning algorithms need labeled examples (x,y), unsupervised learning algorithms need only the input (x). You will learn about clustering—which is used for market segmentation, text summarization, among many other applications.\n",
    "\n",
    "We will also be introducing Principal Components Analysis, which is used to speed up learning algorithms, and is sometimes incredibly useful for visualizing and helping you to understand your data."
   ]
  },
  {
   "cell_type": "markdown",
   "metadata": {},
   "source": [
    "### Clustering\n",
    "\n",
    "#### Unsupervised Learning: Introduction\n",
    "\n",
    "-\n",
    "\n",
    "#### K-Means Algorithm\n",
    "\n",
    "-\n",
    "\n",
    "#### Optimization Objective\n",
    "\n",
    "-\n",
    "\n",
    "#### Random Initialization\n",
    "\n",
    "-\n",
    "\n",
    "#### Choosing the Number of Clusters\n",
    "\n",
    "-\n"
   ]
  },
  {
   "cell_type": "markdown",
   "metadata": {},
   "source": [
    "### Review\n",
    "\n",
    "[Lecture13.pdf](lectures/Lecture13.pdf)"
   ]
  },
  {
   "cell_type": "markdown",
   "metadata": {},
   "source": [
    "## Dimensionality Reduction\n",
    "\n",
    "In this module, we introduce Principal Components Analysis, and show how it can be used for data compression to speed up learning algorithms as well as for visualizations of complex datasets."
   ]
  },
  {
   "cell_type": "markdown",
   "metadata": {},
   "source": [
    "### Motivation\n",
    "\n",
    "#### Motivation I: Data Compression\n",
    "\n",
    "-\n",
    "\n",
    "#### Motivation II: Visualization\n",
    "\n",
    "-"
   ]
  },
  {
   "cell_type": "markdown",
   "metadata": {},
   "source": [
    "### Principal Component Analysis\n",
    "\n",
    "#### Principal Component Analysis Problem Formulation\n",
    "\n",
    "-\n",
    "\n",
    "#### Principal Component Analysis Algorithm\n",
    "\n",
    "-"
   ]
  },
  {
   "cell_type": "markdown",
   "metadata": {},
   "source": [
    "### Applying PCA\n",
    "\n",
    "#### Reconstruction from Compressed Representation\n",
    "\n",
    "-\n",
    "\n",
    "#### Choosing the Number of Principal Components\n",
    "\n",
    "-\n",
    "\n",
    "#### Advice for Applying PCA\n",
    "\n",
    "-"
   ]
  },
  {
   "cell_type": "markdown",
   "metadata": {},
   "source": [
    "### Review\n",
    "\n",
    "[Lecture14.pdf](lectures/Lecture14.pdf)"
   ]
  }
 ],
 "metadata": {
  "kernelspec": {
   "display_name": "Python 3",
   "language": "python",
   "name": "python3"
  },
  "language_info": {
   "codemirror_mode": {
    "name": "ipython",
    "version": 3
   },
   "file_extension": ".py",
   "mimetype": "text/x-python",
   "name": "python",
   "nbconvert_exporter": "python",
   "pygments_lexer": "ipython3",
   "version": "3.6.4"
  }
 },
 "nbformat": 4,
 "nbformat_minor": 2
}
